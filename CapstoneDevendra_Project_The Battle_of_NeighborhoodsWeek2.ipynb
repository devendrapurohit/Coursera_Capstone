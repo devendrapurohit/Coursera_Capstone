{
 "cells": [
  {
   "cell_type": "markdown",
   "metadata": {},
   "source": [
    "# CapstoneDevendra_Project_The Battle_of_NeighborhoodsWeek2"
   ]
  },
  {
   "cell_type": "markdown",
   "metadata": {},
   "source": [
    "## 1.Introduction/Business Problem"
   ]
  },
  {
   "cell_type": "markdown",
   "metadata": {},
   "source": [
    "Goverment of New yok city has dicided to re-arrangement of traffic lights around New York City. This is a problem that occurs in the city where car accidents occur frequently, stop signs are ignored often, the safety of a pedestrian is affected, and other mishaps that occur due to the lack of traffic lights. Creating more traffic lights in New York City would work towards assurance of human safety. The traffic lights also help New York City to become organized city. The city practically runs itself, as the drivers of the vehicles on the road dictate what occurs when driving. The problem with this operation is that it may lead to construction that may increase likeliness of mishaps that occur with the lack of traffic lights. The traffic light system may also require pedestrian assistance when crossing streets, which requires for a cross-walk system. With all these operations must also require a budget and it may or may not come from the central government.\n"
   ]
  },
  {
   "cell_type": "markdown",
   "metadata": {},
   "source": [
    "##  2. Data Required "
   ]
  },
  {
   "cell_type": "markdown",
   "metadata": {},
   "source": [
    "Data is required to find out find out where traffic lights will be most effective to the public. Data collected will consist of population within parts of New York City, number of stop signs within parts of the city, number of speed bumps, number of traffic lights that are already in effect, the average speed limit that is traveled on a single road, the posted speed limit on a single road, the number of businesses/incorporations in a single area, and all other factors that may affect the placement of traffic lights. The data does not have to be exact, in fact in can almost not be accurate at all, as long as there is an increase in the amount of traffic lights. It is a matter of if the data is put to full use and whether changes occur in the tested environment. The Foursquare Location data will be helpful in finding the distance between to points in the city. The distance can then be used to find the average speed limit by creating a speed interval, which would be represented for all the vehicles. The idea is that roads that have faster speed limit would have less traffic lights,(Highways, Interstates, etc), the roads with slower speeds would have more traffic lights as the reaction time is much quicker\n"
   ]
  },
  {
   "cell_type": "markdown",
   "metadata": {},
   "source": [
    "## 3.Methodology Section\n"
   ]
  },
  {
   "cell_type": "markdown",
   "metadata": {},
   "source": [
    "The data that was represented through data frames represented the numbers of speed changes and differences of traffic lights in New York City. The independent variable was represented by the number of traffic lights via population and the dependent being the need of traffic lights via population. The code below displays the process of assigning speed limits and configuring traffic lights."
   ]
  },
  {
   "cell_type": "markdown",
   "metadata": {},
   "source": [
    "## 4.Results Section "
   ]
  },
  {
   "cell_type": "markdown",
   "metadata": {},
   "source": [
    "The results came back and it shows the number of traffic lights that can be dispersed throughout New York City. The code above shows the process as neighborhoods in Toronto were counted for traffic lights, given a fixed number prior to the problem solving. It tuns out that the traffi lights were placed into areas where the speed limit seemed faster. This is because the human reaction time cannot be interpreted by a computer, therefore placing traffic lights in high speed areas causes for more aware-of drivers. It also hints that possibly areas with low speeds may not need traffic lights and should be the dictators of situations of the roads.\n"
   ]
  },
  {
   "cell_type": "markdown",
   "metadata": {},
   "source": [
    "## 5.Discussion Section "
   ]
  },
  {
   "cell_type": "markdown",
   "metadata": {},
   "source": [
    "The results suggest that the traffic lights are placed in places with high speeds. In terms of this project it suggests that since higher speeds result in accidents and other fatal situations, traffic lights could help to organize these roads. It also recommends that areas with low speeds may require less traffic lights and allow more for human dictation. However, Human dictation can not always work the way it is supposed to which traffic lights may be able to help.\n"
   ]
  },
  {
   "cell_type": "markdown",
   "metadata": {},
   "source": [
    "## 6.Conclusion Section "
   ]
  },
  {
   "cell_type": "markdown",
   "metadata": {},
   "source": [
    "To conclude, the traffic lights were organized to the high speed limited areas. The low speed limited areas represented as 1/4 of the traffic lights that were to be placed around New York City. Data frames were not useful in this project, however the code does display an accurate representation of what an actual placement would look like. The code is used to solve for the numbers of the traffic light placement, it works as a guideline for the arrangement."
   ]
  },
  {
   "cell_type": "code",
   "execution_count": null,
   "metadata": {},
   "outputs": [],
   "source": []
  }
 ],
 "metadata": {
  "kernelspec": {
   "display_name": "Python 3",
   "language": "python",
   "name": "python3"
  },
  "language_info": {
   "codemirror_mode": {
    "name": "ipython",
    "version": 3
   },
   "file_extension": ".py",
   "mimetype": "text/x-python",
   "name": "python",
   "nbconvert_exporter": "python",
   "pygments_lexer": "ipython3",
   "version": "3.6.8"
  }
 },
 "nbformat": 4,
 "nbformat_minor": 2
}

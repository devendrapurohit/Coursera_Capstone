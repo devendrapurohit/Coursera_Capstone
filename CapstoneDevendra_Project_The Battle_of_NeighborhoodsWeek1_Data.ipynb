{
 "cells": [
  {
   "cell_type": "markdown",
   "metadata": {},
   "source": [
    "# Devendra - The Battle of the Neighborhoods - Week 1"
   ]
  },
  {
   "cell_type": "markdown",
   "metadata": {},
   "source": [
    "## Data "
   ]
  },
  {
   "cell_type": "markdown",
   "metadata": {},
   "source": [
    "To do analysis of new york city we required many data point such as near by boroughs and neighbourhoods , Population  , geography and Farmers Markets and Food Boxes dataset  etc.."
   ]
  },
  {
   "cell_type": "markdown",
   "metadata": {},
   "source": [
    "### 1.\tNeighbourhoods Data: "
   ]
  },
  {
   "cell_type": "markdown",
   "metadata": {},
   "source": [
    "Total of 5 boroughs and 306 neighbourhoods. we will essentially need a dataset that contains the 5 boroughs and the neighbourhoods that exist in each borough as well as the the latitude and longitude coordinates of each neighbourhood.\n",
    "Below is the link to download data : \n",
    "https://geo.nyu.edu/catalog/nyu_2451_34572\n"
   ]
  },
  {
   "cell_type": "markdown",
   "metadata": {},
   "source": [
    "## 2.\tFarmers Markets and Food Boxes dataset: "
   ]
  },
  {
   "cell_type": "markdown",
   "metadata": {},
   "source": [
    "A farmers' market is often defined as a public site used by two or more local or regional producers for the direct sale of farm products to consumers. In addition to fresh fruits and vegetables, markets may sell dairy products, fish, meat, baked goods, and other minimally processed foods.\n",
    "\n",
    "https://data.cityofnewyork.us/dataset/DOHMH-Farmers-Markets-and-Food-Boxes/8vwk-6iz2\n",
    "Website-https://www.grownyc.org/greenmarketco/foodbox \n",
    "\n"
   ]
  },
  {
   "cell_type": "markdown",
   "metadata": {},
   "source": [
    "## 3 .\tNew York Population and other data set "
   ]
  },
  {
   "cell_type": "markdown",
   "metadata": {},
   "source": [
    "1.\tNew York Population : More population more sales\n",
    "2.\tNew York City Demographics\n",
    "3.\tCuisine of New York city : What is choice if new york cityzen\n",
    "https://en.wikipedia.org/wiki/New_York_City \n"
   ]
  },
  {
   "cell_type": "markdown",
   "metadata": {},
   "source": [
    "## 4. Other inforamtion of New york city like Geo data etc.."
   ]
  },
  {
   "cell_type": "markdown",
   "metadata": {},
   "source": [
    "  \n",
    "    We will get all the supporting informations of new york city by below link \n",
    "    we will get jeson format data then can convert in data fram\n",
    "\n",
    "\n",
    "       https://cocl.us/new_york_dataset\n"
   ]
  },
  {
   "cell_type": "markdown",
   "metadata": {},
   "source": [
    "Postal Code\t | Latitude\t |Longitude\n",
    "M1B\t|43.8066863\t|-79.1943534\n",
    "M1C\t|43.7845351\t|-79.1604971\n",
    " \n"
   ]
  },
  {
   "cell_type": "markdown",
   "metadata": {},
   "source": []
  }
 ],
 "metadata": {
  "kernelspec": {
   "display_name": "Python 3",
   "language": "python",
   "name": "python3"
  },
  "language_info": {
   "codemirror_mode": {
    "name": "ipython",
    "version": 3
   },
   "file_extension": ".py",
   "mimetype": "text/x-python",
   "name": "python",
   "nbconvert_exporter": "python",
   "pygments_lexer": "ipython3",
   "version": "3.6.8"
  }
 },
 "nbformat": 4,
 "nbformat_minor": 2
}
